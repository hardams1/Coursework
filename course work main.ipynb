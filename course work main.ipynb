{
 "cells": [
  {
   "cell_type": "code",
   "execution_count": 32,
   "metadata": {},
   "outputs": [],
   "source": [
    "import yfinance as yf\n",
    "import numpy as np\n",
    "import pandas as pd\n",
    "import matplotlib as mpl\n",
    "import matplotlib.pyplot as plt\n",
    "import scipy.stats as si\n",
    "import os "
   ]
  },
  {
   "cell_type": "code",
   "execution_count": 2,
   "metadata": {},
   "outputs": [
    {
     "name": "stdout",
     "output_type": "stream",
     "text": [
      "[*********************100%***********************]  1 of 1 completed\n"
     ]
    }
   ],
   "source": [
    "df = yf.download(\"BAC\", start=\"2020-03-01\", end=\"2021-03-01\")"
   ]
  },
  {
   "cell_type": "code",
   "execution_count": 3,
   "metadata": {},
   "outputs": [
    {
     "data": {
      "text/html": [
       "<div>\n",
       "<style scoped>\n",
       "    .dataframe tbody tr th:only-of-type {\n",
       "        vertical-align: middle;\n",
       "    }\n",
       "\n",
       "    .dataframe tbody tr th {\n",
       "        vertical-align: top;\n",
       "    }\n",
       "\n",
       "    .dataframe thead th {\n",
       "        text-align: right;\n",
       "    }\n",
       "</style>\n",
       "<table border=\"1\" class=\"dataframe\">\n",
       "  <thead>\n",
       "    <tr style=\"text-align: right;\">\n",
       "      <th></th>\n",
       "      <th>Open</th>\n",
       "      <th>High</th>\n",
       "      <th>Low</th>\n",
       "      <th>Close</th>\n",
       "      <th>Adj Close</th>\n",
       "      <th>Volume</th>\n",
       "    </tr>\n",
       "    <tr>\n",
       "      <th>Date</th>\n",
       "      <th></th>\n",
       "      <th></th>\n",
       "      <th></th>\n",
       "      <th></th>\n",
       "      <th></th>\n",
       "      <th></th>\n",
       "    </tr>\n",
       "  </thead>\n",
       "  <tbody>\n",
       "    <tr>\n",
       "      <th>2020-03-02</th>\n",
       "      <td>28.350000</td>\n",
       "      <td>29.379999</td>\n",
       "      <td>27.440001</td>\n",
       "      <td>29.370001</td>\n",
       "      <td>28.461542</td>\n",
       "      <td>147776300</td>\n",
       "    </tr>\n",
       "    <tr>\n",
       "      <th>2020-03-03</th>\n",
       "      <td>29.370001</td>\n",
       "      <td>29.750000</td>\n",
       "      <td>27.620001</td>\n",
       "      <td>27.750000</td>\n",
       "      <td>26.891647</td>\n",
       "      <td>138698500</td>\n",
       "    </tr>\n",
       "    <tr>\n",
       "      <th>2020-03-04</th>\n",
       "      <td>28.250000</td>\n",
       "      <td>28.420000</td>\n",
       "      <td>27.400000</td>\n",
       "      <td>28.389999</td>\n",
       "      <td>27.511854</td>\n",
       "      <td>111239800</td>\n",
       "    </tr>\n",
       "    <tr>\n",
       "      <th>2020-03-05</th>\n",
       "      <td>27.240000</td>\n",
       "      <td>27.350000</td>\n",
       "      <td>26.400000</td>\n",
       "      <td>26.780001</td>\n",
       "      <td>26.117243</td>\n",
       "      <td>110878700</td>\n",
       "    </tr>\n",
       "    <tr>\n",
       "      <th>2020-03-06</th>\n",
       "      <td>25.469999</td>\n",
       "      <td>26.209999</td>\n",
       "      <td>25.100000</td>\n",
       "      <td>25.709999</td>\n",
       "      <td>25.073723</td>\n",
       "      <td>119121200</td>\n",
       "    </tr>\n",
       "  </tbody>\n",
       "</table>\n",
       "</div>"
      ],
      "text/plain": [
       "                 Open       High        Low      Close  Adj Close     Volume\n",
       "Date                                                                        \n",
       "2020-03-02  28.350000  29.379999  27.440001  29.370001  28.461542  147776300\n",
       "2020-03-03  29.370001  29.750000  27.620001  27.750000  26.891647  138698500\n",
       "2020-03-04  28.250000  28.420000  27.400000  28.389999  27.511854  111239800\n",
       "2020-03-05  27.240000  27.350000  26.400000  26.780001  26.117243  110878700\n",
       "2020-03-06  25.469999  26.209999  25.100000  25.709999  25.073723  119121200"
      ]
     },
     "execution_count": 3,
     "metadata": {},
     "output_type": "execute_result"
    }
   ],
   "source": [
    "df.head()"
   ]
  },
  {
   "cell_type": "code",
   "execution_count": 7,
   "metadata": {},
   "outputs": [
    {
     "data": {
      "text/plain": [
       "Date\n",
       "2020-03-02    28.461542\n",
       "2020-03-03    26.891647\n",
       "2020-03-04    27.511854\n",
       "2020-03-05    26.117243\n",
       "2020-03-06    25.073723\n",
       "Name: Adj Close, dtype: float64"
      ]
     },
     "execution_count": 7,
     "metadata": {},
     "output_type": "execute_result"
    }
   ],
   "source": [
    "df['Adj Close'].head()"
   ]
  },
  {
   "cell_type": "code",
   "execution_count": 21,
   "metadata": {},
   "outputs": [
    {
     "data": {
      "text/plain": [
       "count    251.00\n",
       "mean      25.70\n",
       "std        3.75\n",
       "min       17.63\n",
       "25%       23.29\n",
       "50%       24.65\n",
       "75%       28.23\n",
       "max       36.20\n",
       "Name: Adj Close, dtype: float64"
      ]
     },
     "execution_count": 21,
     "metadata": {},
     "output_type": "execute_result"
    }
   ],
   "source": [
    "da = df['Adj Close']\n",
    "da.describe().round(2)"
   ]
  },
  {
   "cell_type": "code",
   "execution_count": 11,
   "metadata": {},
   "outputs": [
    {
     "data": {
      "text/plain": [
       "Date\n",
       "2020-03-02    28.461542\n",
       "2020-03-03    26.891647\n",
       "2020-03-04    27.511854\n",
       "2020-03-05    26.117243\n",
       "2020-03-06    25.073723\n",
       "Name: Adj Close, dtype: float64"
      ]
     },
     "execution_count": 11,
     "metadata": {},
     "output_type": "execute_result"
    }
   ],
   "source": [
    "da.head()"
   ]
  },
  {
   "cell_type": "code",
   "execution_count": 20,
   "metadata": {},
   "outputs": [
    {
     "data": {
      "text/plain": [
       "<AxesSubplot:xlabel='Date'>"
      ]
     },
     "execution_count": 20,
     "metadata": {},
     "output_type": "execute_result"
    },
    {
     "data": {
      "image/png": "[encoded data removed]",
      "text/plain": [
       "<Figure size 720x432 with 1 Axes>"
      ]
     },
     "metadata": {
      "needs_background": "light"
     },
     "output_type": "display_data"
    }
   ],
   "source": [
    "da.plot(figsize=(10, 6))"
   ]
  },
  {
   "cell_type": "code",
   "execution_count": 23,
   "metadata": {},
   "outputs": [
    {
     "data": {
      "text/plain": [
       "Date\n",
       "2020-03-02     NaN\n",
       "2020-03-03   -1.57\n",
       "2020-03-04    0.62\n",
       "2020-03-05   -1.39\n",
       "2020-03-06   -1.04\n",
       "Name: Adj Close, dtype: float64"
      ]
     },
     "execution_count": 23,
     "metadata": {},
     "output_type": "execute_result"
    }
   ],
   "source": [
    "da.diff().head().round(2)"
   ]
  },
  {
   "cell_type": "code",
   "execution_count": 24,
   "metadata": {},
   "outputs": [
    {
     "data": {
      "text/plain": [
       "Date\n",
       "2020-03-02       NaN\n",
       "2020-03-03   -0.0552\n",
       "2020-03-04    0.0231\n",
       "2020-03-05   -0.0507\n",
       "2020-03-06   -0.0400\n",
       "Name: Adj Close, dtype: float64"
      ]
     },
     "execution_count": 24,
     "metadata": {},
     "output_type": "execute_result"
    }
   ],
   "source": [
    "da.pct_change().round(4).head()"
   ]
  },
  {
   "cell_type": "code",
   "execution_count": 25,
   "metadata": {},
   "outputs": [
    {
     "data": {
      "text/plain": [
       "Date\n",
       "2020-03-02       NaN\n",
       "2020-03-03   -0.0567\n",
       "2020-03-04    0.0228\n",
       "2020-03-05   -0.0520\n",
       "2020-03-06   -0.0408\n",
       "Name: Adj Close, dtype: float64"
      ]
     },
     "execution_count": 25,
     "metadata": {},
     "output_type": "execute_result"
    }
   ],
   "source": [
    "logda = np.log(da / da.shift(1))\n",
    "logda.head().round(4)"
   ]
  },
  {
   "cell_type": "code",
   "execution_count": 26,
   "metadata": {},
   "outputs": [
    {
     "data": {
      "image/png": "[encoded data removed]",
      "text/plain": [
       "<Figure size 720x432 with 1 Axes>"
      ]
     },
     "metadata": {
      "needs_background": "light"
     },
     "output_type": "display_data"
    }
   ],
   "source": [
    " logda.cumsum().apply(np.exp).plot(figsize=(10, 6));"
   ]
  },
  {
   "cell_type": "code",
   "execution_count": 27,
   "metadata": {},
   "outputs": [
    {
     "name": "stdout",
     "output_type": "stream",
     "text": [
      "The annulized normal return is 0.19506753 and its one year annulized volatility is 0.58882265\n"
     ]
    }
   ],
   "source": [
    "nr = logda.mean() * 252\n",
    "vol = logda.std() * (252 ** 0.5)\n",
    "print('The annulized normal return is %.8f and its one year annulized volatility is %.8f' % (nr,vol))"
   ]
  },
  {
   "cell_type": "code",
   "execution_count": 29,
   "metadata": {},
   "outputs": [],
   "source": [
    "sixlr = logda[126:-1]\n"
   ]
  },
  {
   "cell_type": "code",
   "execution_count": 30,
   "metadata": {},
   "outputs": [
    {
     "name": "stdout",
     "output_type": "stream",
     "text": [
      "The annulized normal return is 0.19506753 and its six months  annulized volatility is 0.35799659\n"
     ]
    }
   ],
   "source": [
    "sixnr = sixlr.mean() * 252\n",
    "sixvol = sixlr.std() * (252 ** 0.5)\n",
    "print('The annulized normal return is %.8f and its six months  annulized volatility is %.8f' % (nr,sixvol))"
   ]
  },
  {
   "cell_type": "code",
   "execution_count": null,
   "metadata": {},
   "outputs": [],
   "source": []
  },
  {
   "cell_type": "code",
   "execution_count": 73,
   "metadata": {},
   "outputs": [],
   "source": [
    "def mcs_simulation_np(p):\n",
    "    M = p\n",
    "    I = p\n",
    "    dt = T / M \n",
    "    S = np.zeros((M + 1, I))\n",
    "    S[0] = S0 \n",
    "    rn = np.random.standard_normal(S.shape) \n",
    "    for t in range(1, M + 1): \n",
    "        S[t] = S[t-1] * np.exp((r - sigma ** 2 / 2) * dt + sigma * np.sqrt(dt) * rn[t]) \n",
    "    return S"
   ]
  },
  {
   "cell_type": "code",
   "execution_count": 74,
   "metadata": {},
   "outputs": [],
   "source": [
    "T = 4/52\n",
    "r = 0.0151\n",
    "sigma = 0.5888\n",
    "S0 = 36.9\n",
    "K = 39.0"
   ]
  },
  {
   "cell_type": "code",
   "execution_count": 75,
   "metadata": {},
   "outputs": [],
   "source": [
    "S = mcs_simulation_np(1000)"
   ]
  },
  {
   "cell_type": "code",
   "execution_count": 76,
   "metadata": {},
   "outputs": [
    {
     "data": {
      "text/plain": [
       "array([[36.9       , 37.23870304, 37.53791594, ..., 36.39159906,\n",
       "        36.66633668, 36.70429382],\n",
       "       [36.9       , 36.85125111, 36.92817202, ..., 30.28279623,\n",
       "        29.96431619, 30.00438346],\n",
       "       [36.9       , 36.66087533, 36.65045515, ..., 40.6648098 ,\n",
       "        40.58789373, 40.65580406],\n",
       "       ...,\n",
       "       [36.9       , 36.68088871, 36.64589093, ..., 31.84017826,\n",
       "        31.6989634 , 31.90269205],\n",
       "       [36.9       , 37.05955982, 37.58673451, ..., 44.85289972,\n",
       "        45.00258832, 44.50389186],\n",
       "       [36.9       , 36.91818327, 36.87029696, ..., 36.33449675,\n",
       "        36.41565294, 36.22469566]])"
      ]
     },
     "execution_count": 76,
     "metadata": {},
     "output_type": "execute_result"
    }
   ],
   "source": [
    "S = np.transpose(S)\n",
    "S"
   ]
  },
  {
   "cell_type": "code",
   "execution_count": 77,
   "metadata": {},
   "outputs": [
    {
     "data": {
      "text/plain": [
       "Text(0.5, 1.0, 'Frequency distribution of the simulated end-of-preiod values')"
      ]
     },
     "execution_count": 77,
     "metadata": {},
     "output_type": "execute_result"
    },
    {
     "data": {
      "image/png": "[encoded data removed]",
      "text/plain": [
       "<Figure size 432x288 with 1 Axes>"
      ]
     },
     "metadata": {
      "needs_background": "light"
     },
     "output_type": "display_data"
    }
   ],
   "source": [
    "import matplotlib.pyplot as plt\n",
    "n, bins, patches = plt.hist(x=S[:,-1], bins='auto', color='#0504aa',alpha=0.7, rwidth=0.85)\n",
    "\n",
    "plt.grid(axis='y', alpha=0.75)\n",
    "plt.xlabel('S_T')\n",
    "plt.ylabel('Frequency')\n",
    "plt.title('Frequency distribution of the simulated end-of-preiod values')"
   ]
  },
  {
   "cell_type": "code",
   "execution_count": 78,
   "metadata": {},
   "outputs": [
    {
     "name": "stdout",
     "output_type": "stream",
     "text": [
      "Binary put 0.8241758241758241\n"
     ]
    }
   ],
   "source": [
    "pp = (K - S[-1,:])>0\n",
    "bpp = np.mean(np.maximum(pp.astype(int),0))\n",
    "print('Binary put', str(bpp))"
   ]
  },
  {
   "cell_type": "code",
   "execution_count": 81,
   "metadata": {},
   "outputs": [],
   "source": [
    "def binary_option_bsm(S, K, T, r, q, vol, payoff):\n",
    "    \n",
    "    #Sa: spot price\n",
    "    #K: strike price\n",
    "    #T: time to maturity\n",
    "    #r: risk free rate\n",
    "    #q: continuous dividend yield\n",
    "    #vol: volatility of underlying asset\n",
    "    #payoff: call or put\n",
    "    \n",
    "    d1 = (np.log(S / K) + (r - q + 0.5 * vol ** 2) * T) / (vol * np.sqrt(T))\n",
    "    d2 = (np.log(S / K) + (r - q - 0.5 * vol ** 2) * T) / (vol * np.sqrt(T))\n",
    "    if payoff == \"call\":\n",
    "        option_value = S * np.exp(-q * T) * si.norm.cdf(d1, 0.0, 1.0) - K * np.exp(-r * T) * si.norm.cdf(d2, 0.0, 1.0)\n",
    "    elif payoff == \"put\":\n",
    "        option_value =  - S * np.exp(-q * T) * si.norm.cdf(-d1, 0.0, 1.0) + K * np.exp(-r * T) * si.norm.cdf(-d2, 0.0, 1.0)\n",
    "    \n",
    "    return option_value"
   ]
  },
  {
   "cell_type": "code",
   "execution_count": 82,
   "metadata": {},
   "outputs": [
    {
     "data": {
      "text/plain": [
       "3.661702093736146"
      ]
     },
     "execution_count": 82,
     "metadata": {},
     "output_type": "execute_result"
    }
   ],
   "source": [
    "binary_option_bsm(36.9,39,4/52,0.0151,0.0187,0.5888,'put')\n"
   ]
  },
  {
   "cell_type": "code",
   "execution_count": null,
   "metadata": {},
   "outputs": [],
   "source": [
    "#BINOMIAL TREE"
   ]
  },
  {
   "cell_type": "code",
   "execution_count": 52,
   "metadata": {},
   "outputs": [
    {
     "data": {
      "text/plain": [
       "0.6577355709658845"
      ]
     },
     "execution_count": 52,
     "metadata": {},
     "output_type": "execute_result"
    }
   ],
   "source": [
    "import random\n",
    "from math import exp, sqrt\n",
    "\n",
    "def gbm(Sb, v, r, T):\n",
    "    return Sb * exp((r - 0.5 * v**2) * T + v * sqrt(T) * random.gauss(0,1.0))\n",
    "\n",
    "def binary_call_payoff(K, S_T):\n",
    "    if K >= S_T:\n",
    "        return 1.0\n",
    "    else:\n",
    "        return 0.0\n",
    "\n",
    "# parameters\n",
    "Sb = 36.9 # asset price\n",
    "v = 0.5888 # vol of 20%\n",
    "r = 0.0151 # rate of 1%\n",
    "maturity = 4/52\n",
    "K = 39.0 # ATM strike\n",
    "simulations = 10000\n",
    "payoffs = 0.0\n",
    "\n",
    "# run simultaion\n",
    "for i in range(simulations):\n",
    "    S_T = gbm(Sb, v, r, maturity)\n",
    "    payoffs += binary_put_payoff(K, S_T)\n",
    "\n",
    "# find prices\n",
    "option_price = exp(-r * maturity) * (payoffs / float(simulations))\n",
    "\n",
    "option_price"
   ]
  },
  {
   "cell_type": "code",
   "execution_count": null,
   "metadata": {},
   "outputs": [],
   "source": [
    "#BlackScholes Model 2 "
   ]
  },
  {
   "cell_type": "code",
   "execution_count": 61,
   "metadata": {},
   "outputs": [
    {
     "data": {
      "text/plain": [
       "0.5120914800868395"
      ]
     },
     "execution_count": 61,
     "metadata": {},
     "output_type": "execute_result"
    }
   ],
   "source": [
    "from scipy.stats import norm\n",
    "from math import exp, log, sqrt\n",
    "S, K, v, r, T = 36.9, 39.0, 0.5888, 0.0151, 4/52\n",
    "d2 = (log(S/K) + (r - 0.5 * v**2) * T) / v*sqrt(T)\n",
    "pp = exp(-r * T) * norm.cdf(-d2)\n",
    "pp"
   ]
  },
  {
   "cell_type": "code",
   "execution_count": null,
   "metadata": {},
   "outputs": [],
   "source": []
  },
  {
   "cell_type": "code",
   "execution_count": null,
   "metadata": {},
   "outputs": [],
   "source": []
  },
  {
   "cell_type": "code",
   "execution_count": null,
   "metadata": {},
   "outputs": [],
   "source": [
    "#GREEKS"
   ]
  },
  {
   "cell_type": "code",
   "execution_count": null,
   "metadata": {},
   "outputs": [],
   "source": []
  },
  {
   "cell_type": "code",
   "execution_count": 94,
   "metadata": {},
   "outputs": [],
   "source": [
    "#DELTA"
   ]
  },
  {
   "cell_type": "code",
   "execution_count": 103,
   "metadata": {},
   "outputs": [],
   "source": [
    "def delta(S0,k,T,r,q,vol,payoff):\n",
    "    d1 = (np.log(S0/k) + (r + 0.5 * vol **2)*T)/(vol * np.sqrt(T))\n",
    "    d2 = (np.log(S0/k) + (r - 0.5 * vol **2)*T)/(vol * np.sqrt(T))\n",
    "    \n",
    "    if payoff == 'call':\n",
    "        delta =  (np.exp(-r*T))*si.norm.pdf(d2,0.0,1.0)/(vol*S0*np.sqrt(T))\n",
    "    elif payoff == 'put':\n",
    "        delta = -(np.exp(-r*T)*si.norm.pdf(d2,0.0,1.0))/(vol*S0*np.sqrt(T))\n",
    "\n",
    "    return delta"
   ]
  },
  {
   "cell_type": "code",
   "execution_count": 104,
   "metadata": {},
   "outputs": [
    {
     "data": {
      "text/plain": [
       "-0.06070977615615771"
      ]
     },
     "execution_count": 104,
     "metadata": {},
     "output_type": "execute_result"
    }
   ],
   "source": [
    "delta(36.9,39,4/52,0.0151,0.0187,0.5888,'put')"
   ]
  },
  {
   "cell_type": "code",
   "execution_count": 105,
   "metadata": {},
   "outputs": [],
   "source": [
    "#GAMMA"
   ]
  },
  {
   "cell_type": "code",
   "execution_count": 108,
   "metadata": {},
   "outputs": [],
   "source": [
    "def gamma(S0,k,T,r,q,vol,payoff):\n",
    "    d1 = (np.log(S0/k) + (r + 0.5 * vol **2)*T)/(vol * np.sqrt(T))\n",
    "    d2 = (np.log(S0/k) + (r - 0.5 * vol **2)*T)/(vol * np.sqrt(T))\n",
    "    \n",
    "    if payoff == 'call':\n",
    "        gamma = (np.exp(-r*T)*d1*si.norm.pdf(d2,0.0,1.0))/((vol**2)*(S0**2)*(T))\n",
    "    elif payoff == 'put':\n",
    "        gamma = -(np.exp(-r*T)*d1*si.norm.pdf(d2,0.0,1.0))/((vol**2)*(S0**2)*(T))\n",
    "\n",
    "    return gamma"
   ]
  },
  {
   "cell_type": "code",
   "execution_count": 109,
   "metadata": {},
   "outputs": [
    {
     "data": {
      "text/plain": [
       "0.0025204606873093084"
      ]
     },
     "execution_count": 109,
     "metadata": {},
     "output_type": "execute_result"
    }
   ],
   "source": [
    "gamma(36.9,39,4/52,0.0151,0.0187,0.5888,'put')"
   ]
  },
  {
   "cell_type": "code",
   "execution_count": 110,
   "metadata": {},
   "outputs": [],
   "source": [
    "#THETA"
   ]
  },
  {
   "cell_type": "code",
   "execution_count": 111,
   "metadata": {},
   "outputs": [],
   "source": [
    "def theta(S0,k,T,r,q,vol,payoff):\n",
    "    d1 = (np.log(S0/k) + (r + 0.5 * vol **2)*T)/(vol * np.sqrt(T))\n",
    "    d2 = (np.log(S0/k) + (r - 0.5 * vol **2)*T)/(vol * np.sqrt(T))\n",
    "    a = d1/(2*T)\n",
    "    b = (r-q)/(vol*np.sqrt(T))\n",
    "    if payoff == 'call':\n",
    "        theta = (r* np.exp(-r*T)*(si.norm.cdf(d2,0.0,1.0)))+(np.exp(-r*T)*si.norm.pdf(d2,0.0,1.0))* (a-b)\n",
    "    elif payoff == 'put':\n",
    "        theta = (r* np.exp(-r*T)*(1- si.norm.cdf(d2,0.0,1.0)))-(np.exp(-r*T)*si.norm.pdf(d2,0.0,1.0))* (a-b)\n",
    "\n",
    "    return theta"
   ]
  },
  {
   "cell_type": "code",
   "execution_count": 112,
   "metadata": {},
   "outputs": [
    {
     "data": {
      "text/plain": [
       "0.5967875451065687"
      ]
     },
     "execution_count": 112,
     "metadata": {},
     "output_type": "execute_result"
    }
   ],
   "source": [
    "theta(36.9,39,4/52,0.0151,0.0187,0.5888,'put')"
   ]
  },
  {
   "cell_type": "code",
   "execution_count": 113,
   "metadata": {},
   "outputs": [],
   "source": [
    "#SPEED"
   ]
  },
  {
   "cell_type": "code",
   "execution_count": 114,
   "metadata": {},
   "outputs": [],
   "source": [
    "def speed(S0,k,T,r,q,vol,payoff):\n",
    "    d1 = (np.log(S0/k) + (r + 0.5 * vol **2)*T)/(vol * np.sqrt(T))\n",
    "    d2 = (np.log(S0/k) + (r - 0.5 * vol **2)*T)/(vol * np.sqrt(T))\n",
    "    a= (np.exp(-r*T)*si.norm.pdf(d2,0.0,1.0))/((vol**2)*(S0**3)*(T))\n",
    "    b= ((-2*d1)+((1-(d1*d2))/(vol*np.sqrt(T))))\n",
    "    \n",
    "    if payoff == 'call':\n",
    "        speed = -a*b\n",
    "    elif payoff == 'put':\n",
    "        speed = a*b\n",
    "\n",
    "    return speed"
   ]
  },
  {
   "cell_type": "code",
   "execution_count": 115,
   "metadata": {},
   "outputs": [
    {
     "data": {
      "text/plain": [
       "0.0016355772268741068"
      ]
     },
     "execution_count": 115,
     "metadata": {},
     "output_type": "execute_result"
    }
   ],
   "source": [
    "speed(36.9,39,4/52,0.0151,0.0187,0.5888,'put')"
   ]
  },
  {
   "cell_type": "code",
   "execution_count": 116,
   "metadata": {},
   "outputs": [],
   "source": [
    "#VEGA"
   ]
  },
  {
   "cell_type": "code",
   "execution_count": 117,
   "metadata": {},
   "outputs": [],
   "source": [
    "def vega(S0,k,T,r,q,sig,payoff):\n",
    "    d1 = (np.log(S0/k) + (r + 0.5 * sig **2)*T)/(sig * np.sqrt(T))\n",
    "    d2 = (np.log(S0/k) + (r - 0.5 * sig **2)*T)/(sig * np.sqrt(T))\n",
    "    a = (np.sqrt(T) + ((d2)/sig))   \n",
    "    if payoff == 'call':\n",
    "        vega = (-np.exp(-r*T)*si.norm.pdf(d2,0.0,1.0)) * a\n",
    "    elif payoff == 'put':\n",
    "        vega = (np.exp(-r*T)*si.norm.pdf(d2,0.0,1.0)) * a\n",
    "            \n",
    "    return vega"
   ]
  },
  {
   "cell_type": "code",
   "execution_count": 119,
   "metadata": {},
   "outputs": [
    {
     "data": {
      "text/plain": [
       "-0.15543796767170215"
      ]
     },
     "execution_count": 119,
     "metadata": {},
     "output_type": "execute_result"
    }
   ],
   "source": [
    "vega(36.9,39,4/52,0.0151,0.0187,0.5888,'put')"
   ]
  },
  {
   "cell_type": "code",
   "execution_count": null,
   "metadata": {},
   "outputs": [],
   "source": []
  }
 ],
 "metadata": {
  "kernelspec": {
   "display_name": "Python 3",
   "language": "python",
   "name": "python3"
  },
  "language_info": {
   "codemirror_mode": {
    "name": "ipython",
    "version": 3
   },
   "file_extension": ".py",
   "mimetype": "text/x-python",
   "name": "python",
   "nbconvert_exporter": "python",
   "pygments_lexer": "ipython3",
   "version": "3.8.5"
  }
 },
 "nbformat": 4,
 "nbformat_minor": 4
}
